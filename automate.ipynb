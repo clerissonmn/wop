{
 "cells": [
  {
   "cell_type": "code",
   "execution_count": 1,
   "id": "701b24b2-548d-45e6-bd18-ad4ce344c85e",
   "metadata": {},
   "outputs": [],
   "source": [
    "from selenium import webdriver\n",
    "from selenium.webdriver.firefox.service import Service as FirefoxService\n",
    "from selenium.webdriver.firefox.options import Options\n",
    "\n",
    "from selenium.webdriver.common.by import By\n",
    "from selenium.webdriver.common.keys import Keys\n",
    "\n",
    "from selenium.webdriver.support.ui import WebDriverWait\n",
    "from selenium.webdriver.support import expected_conditions as EC\n",
    "\n",
    "import pandas as pd"
   ]
  },
  {
   "cell_type": "code",
   "execution_count": 2,
   "id": "7ebc0dae-da06-4154-beec-4172b549a5f4",
   "metadata": {},
   "outputs": [],
   "source": [
    "def inicializa_selenium(gecko_path='./geckodriver'):\n",
    "    \"\"\"_summary_\n",
    "\n",
    "    Args:\n",
    "        gecko_path (str, optional): Path to geckodriver. Defaults to './geckodriver'.\n",
    "    \n",
    "    return: selenium.webdriver object\n",
    "    \"\"\"\n",
    "    geckodriver_path = gecko_path\n",
    "    options = Options()\n",
    "    #options.add_argument('--headless')  # Se quiser rodar o Firefox em modo headless\n",
    "    service = FirefoxService(executable_path=geckodriver_path)\n",
    "    driver = webdriver.Firefox(service=service, options=options)\n",
    "    return driver\n",
    "\n",
    "def faz_login(usuario, senha, pagina_de_login='https://wop.obra.shalom.tec.br/login',driver=None):\n",
    "    \"\"\"_summary_\n",
    "\n",
    "    Args:\n",
    "        usuario (str, optional): Defaults to 'clerisson'.\n",
    "        senha (str, optional): Defaults to 'clerissonshalom'.\n",
    "        pagina_de_login (str, optional): efaults to 'https://wop.obra.shalom.tec.br/login'.\n",
    "        driver (_type_, optional): objeto webdriver selenium a ser usado. Defaults to driver.\n",
    "    \"\"\"\n",
    "\n",
    "    print(\"=> Fazendo Login\")\n",
    "\n",
    "    if not driver:\n",
    "        driver = inicializa_selenium()\n",
    "\n",
    "    \n",
    "    driver.get(pagina_de_login)\n",
    "\n",
    "    username_field = driver.find_element(By.NAME, 'username')  # Use o nome correto do campo de usuário\n",
    "    password_field = driver.find_element(By.NAME, 'password')  # Use o nome correto do campo de senha\n",
    "\n",
    "    username_field.clear()\n",
    "    password_field.clear()\n",
    "    username_field.send_keys(usuario)\n",
    "    password_field.send_keys(senha)\n",
    "\n",
    "    login_button = driver.find_element(By.XPATH, '//button[@type=\"submit\"]')  # Use o seletor correto para o botão de login\n",
    "    login_button.click()\n",
    "\n",
    "    print(\"==> Ok\")\n",
    "    return 1\n",
    "\n",
    "def pega_membros_do_grupo(id, driver=None,verbose=True):\n",
    "    \"\"\"Entra no link de um determinado grupo e cria um list de list contendo \n",
    "    as ovelhasjá cadastradas nesse grupo de oração.\n",
    "\n",
    "\n",
    "    Args:\n",
    "        id (_type_): id do grupo, str\n",
    "        driver (_type_): selenium webdriver que vai acessar o link\n",
    "\n",
    "    Returns:\n",
    "        um list de lists no formato [[...], [...], [...]]\n",
    "    \"\"\"    \n",
    "\n",
    "    print(\"=> Obtendo a lista de membros do grupo\")\n",
    "\n",
    "    id_do_grupo = id\n",
    "    \n",
    "    if not driver:\n",
    "        try:\n",
    "            driver = inicializa_selenium()\n",
    "        except:\n",
    "            print(\"Erro ao iniciar o Selenium\")\n",
    "            return \"Erro\"\n",
    "    \n",
    "    driver.get(f\"https://wop.obra.shalom.tec.br/secured/local/grupodeoracao/{ id_do_grupo }/gerenciar\")\n",
    "    \n",
    "\n",
    "    try:\n",
    "        # Espere até que o elemento esteja visível (aguarde até 10 segundos)\n",
    "        xpath= \"/html/body/app-root/grupooracao-local-manage/secured/body/div/span/div/section[2]/div/div[4]/div/div[3]/div/div/table-component/div/div[2]/table/tbody\"\n",
    "        tabela = WebDriverWait(driver, 30).until(\n",
    "            EC.visibility_of_element_located((By.XPATH, xpath))\n",
    "        )\n",
    "    except:\n",
    "        print(\"=> O elemento não foi carregado a tempo\")\n",
    "        return None\n",
    "\n",
    "    linhas = tabela.find_elements(By.TAG_NAME, 'tr')\n",
    "\n",
    "    membros =[]\n",
    "    for linha in linhas:\n",
    "        colunas = linha.find_elements(By.TAG_NAME, 'td')\n",
    "        dados = [coluna.text for coluna in colunas if coluna.text != '']\n",
    "        membros.append(dados)\n",
    "\n",
    "    print(\"==> Ok\")\n",
    "    return membros"
   ]
  },
  {
   "cell_type": "code",
   "execution_count": 5,
   "id": "4f2e01b8",
   "metadata": {},
   "outputs": [],
   "source": [
    "# Inicializa Selenium e faz login no wop\n",
    "driver = inicializa_selenium()"
   ]
  },
  {
   "cell_type": "code",
   "execution_count": null,
   "id": "44b9179d-95a2-4d48-9bf8-8bc4f6f56747",
   "metadata": {},
   "outputs": [],
   "source": [
    "# Obtém a lista dos grupos a partir do CSV\n",
    "grupos_df = pd.read_csv(\"grupos.csv\").sort_values(by=[\"CEV\", \"nome\"])\n",
    "grupos_df"
   ]
  },
  {
   "cell_type": "code",
   "execution_count": null,
   "id": "fe34a172",
   "metadata": {},
   "outputs": [],
   "source": [
    "# Pega as informações de um determinado grupo\n",
    "grupo_id = 300\n",
    "path_to_export_csv = \"./grupos/csv/\"\n",
    "\n",
    "membros_list= pega_membros_do_grupo(grupo_id, driver)"
   ]
  },
  {
   "cell_type": "code",
   "execution_count": 10,
   "id": "d9dda8d3",
   "metadata": {},
   "outputs": [
    {
     "name": "stdout",
     "output_type": "stream",
     "text": [
      "=> O elemento não foi carregado a tempo\n",
      "None\n"
     ]
    }
   ],
   "source": [
    "def gera_informações_do_grupo(id=301):\n",
    "    id_do_grupo = id\n",
    "    driver.get(f\"https://wop.obra.shalom.tec.br/secured/local/grupodeoracao/{ id_do_grupo }/gerenciar\")\n",
    "\n",
    "    # Pega os pastores\n",
    "    try:\n",
    "        # Espere até que o elemento esteja visível (aguarde até 10 segundos)\n",
    "        xpath= \"/html/body/app-root/grupooracao-local-manage/secured/body/div/span/div/section[2]/div/div[2]/div/div[3]/div/div\"\n",
    "        pastores = WebDriverWait(driver, 30).until(\n",
    "            EC.visibility_of_element_located((By.XPATH, xpath))\n",
    "        )\n",
    "    except:\n",
    "        print(\"=> O elemento não foi carregado a tempo\")\n",
    "        return None\n",
    "    \n",
    "    linhas = tabela.find_elements(By.TAG_NAME, 'tr')\n",
    "\n",
    "    print(linhas)\n",
    "    \n",
    "    membros =[]\n",
    "    for linha in linhas:\n",
    "        colunas = linha.find_elements(By.TAG_NAME, 'td')\n",
    "        dados = [coluna.text for coluna in colunas if coluna.text != '']\n",
    "        membros.append(dados)\n",
    "    \n",
    "    return membros\n",
    "membros = gera_informações_do_grupo()\n",
    "print(membros)"
   ]
  },
  {
   "cell_type": "code",
   "execution_count": null,
   "id": "9a0251b3",
   "metadata": {},
   "outputs": [],
   "source": [
    "Grupo = pd.DataFrame(membros_list, columns=[\"user id\",\"Nome\", \"Data de ingresso\", \"Status\"])\n",
    "Grupo = Grupo.sort_values(by='Nome')\n",
    "Grupo"
   ]
  },
  {
   "cell_type": "code",
   "execution_count": null,
   "id": "4d9a2789",
   "metadata": {},
   "outputs": [],
   "source": [
    "Grupo.to_csv(path_to_export_csv,index=False)"
   ]
  },
  {
   "cell_type": "code",
   "execution_count": null,
   "id": "5015ed02",
   "metadata": {},
   "outputs": [],
   "source": [
    "# Exporta todos os grupos\n",
    "path_to_export_csv = \"./grupos\"\n",
    "for grupo in grupos_df.itertuples():\n",
    "\n",
    "    grupo_id = grupo.id\n",
    "    grupo_nome = grupo.nome\n",
    "    grupo_CEV = grupo.CEV\n",
    "    grupo_nome = grupo_nome.replace(\" \",\"_\")\n",
    "\n",
    "    texto  = f\"{grupo_id}\\t{grupo_nome}\\t{grupo.CEV}\"\n",
    "    print(texto)\n",
    "\n",
    "    membros = pega_membros_do_grupo(grupo_id,driver)\n",
    "\n",
    "    if membros is None:\n",
    "        print(\"=> Falhou\")\n",
    "    \n",
    "    membros_df = pd.DataFrame(membros, columns=[\"user id\",\"Nome\", \"Data de ingresso\", \"Status\"])\n",
    "    membros_df.sort_values(by='Nome')\n",
    "\n",
    "    membros_df.to_csv(f\"{path_to_export_csv}/{grupo_CEV}_{grupo_id}_{grupo_nome}.csv\",index=False)\n"
   ]
  },
  {
   "cell_type": "code",
   "execution_count": 14,
   "id": "e601ed6f-d6db-4244-835a-c3091e0840fd",
   "metadata": {},
   "outputs": [],
   "source": [
    "# Faechar o navegador\n",
    "driver.quit()"
   ]
  }
 ],
 "metadata": {
  "kernelspec": {
   "display_name": "Python 3 (ipykernel)",
   "language": "python",
   "name": "python3"
  },
  "language_info": {
   "codemirror_mode": {
    "name": "ipython",
    "version": 3
   },
   "file_extension": ".py",
   "mimetype": "text/x-python",
   "name": "python",
   "nbconvert_exporter": "python",
   "pygments_lexer": "ipython3",
   "version": "3.10.14"
  }
 },
 "nbformat": 4,
 "nbformat_minor": 5
}
